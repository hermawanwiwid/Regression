{
 "cells": [
  {
   "cell_type": "code",
   "execution_count": 11,
   "metadata": {
    "colab": {},
    "colab_type": "code",
    "id": "uCqN37qtDimW"
   },
   "outputs": [],
   "source": [
    "import pandas as pd\n",
    "import numpy as np"
   ]
  },
  {
   "cell_type": "markdown",
   "metadata": {
    "colab_type": "text",
    "id": "01AK6f1HWesW"
   },
   "source": [
    "# REGRESI NON LINEAR"
   ]
  },
  {
   "cell_type": "code",
   "execution_count": 12,
   "metadata": {
    "colab": {
     "base_uri": "https://localhost:8080/",
     "height": 191
    },
    "colab_type": "code",
    "executionInfo": {
     "elapsed": 1476,
     "status": "ok",
     "timestamp": 1571294219226,
     "user": {
      "displayName": "Hermawan Wiwit Nugroho",
      "photoUrl": "https://lh3.googleusercontent.com/a-/AAuE7mDBF2iGKxGl7CYsDDE_vc-IJ_jasiS_LErJsAvk2w=s64",
      "userId": "12590553655837929904"
     },
     "user_tz": -420
    },
    "id": "1rufRk0SWeUU",
    "outputId": "f2e3dfc2-5e98-4fd0-cc9d-5ae62a41c091"
   },
   "outputs": [
    {
     "data": {
      "text/html": [
       "<div>\n",
       "<style scoped>\n",
       "    .dataframe tbody tr th:only-of-type {\n",
       "        vertical-align: middle;\n",
       "    }\n",
       "\n",
       "    .dataframe tbody tr th {\n",
       "        vertical-align: top;\n",
       "    }\n",
       "\n",
       "    .dataframe thead th {\n",
       "        text-align: right;\n",
       "    }\n",
       "</style>\n",
       "<table border=\"1\" class=\"dataframe\">\n",
       "  <thead>\n",
       "    <tr style=\"text-align: right;\">\n",
       "      <th></th>\n",
       "      <th>Unnamed: 0</th>\n",
       "      <th>x</th>\n",
       "      <th>ydata</th>\n",
       "    </tr>\n",
       "  </thead>\n",
       "  <tbody>\n",
       "    <tr>\n",
       "      <th>0</th>\n",
       "      <td>0</td>\n",
       "      <td>-5.0</td>\n",
       "      <td>22.254233</td>\n",
       "    </tr>\n",
       "    <tr>\n",
       "      <th>1</th>\n",
       "      <td>1</td>\n",
       "      <td>-4.9</td>\n",
       "      <td>21.335109</td>\n",
       "    </tr>\n",
       "    <tr>\n",
       "      <th>2</th>\n",
       "      <td>2</td>\n",
       "      <td>-4.8</td>\n",
       "      <td>22.799538</td>\n",
       "    </tr>\n",
       "    <tr>\n",
       "      <th>3</th>\n",
       "      <td>3</td>\n",
       "      <td>-4.7</td>\n",
       "      <td>20.265303</td>\n",
       "    </tr>\n",
       "    <tr>\n",
       "      <th>4</th>\n",
       "      <td>4</td>\n",
       "      <td>-4.6</td>\n",
       "      <td>22.706364</td>\n",
       "    </tr>\n",
       "  </tbody>\n",
       "</table>\n",
       "</div>"
      ],
      "text/plain": [
       "   Unnamed: 0    x      ydata\n",
       "0           0 -5.0  22.254233\n",
       "1           1 -4.9  21.335109\n",
       "2           2 -4.8  22.799538\n",
       "3           3 -4.7  20.265303\n",
       "4           4 -4.6  22.706364"
      ]
     },
     "execution_count": 12,
     "metadata": {},
     "output_type": "execute_result"
    }
   ],
   "source": [
    "url2 = 'https://raw.githubusercontent.com/hermawanwiwid/Regression/master/kuadratik.csv'\n",
    "\n",
    "data = pd.read_csv(url2)\n",
    "\n",
    "data.head()"
   ]
  },
  {
   "cell_type": "code",
   "execution_count": 13,
   "metadata": {
    "colab": {
     "base_uri": "https://localhost:8080/",
     "height": 282
    },
    "colab_type": "code",
    "executionInfo": {
     "elapsed": 2097,
     "status": "ok",
     "timestamp": 1571294219882,
     "user": {
      "displayName": "Hermawan Wiwit Nugroho",
      "photoUrl": "https://lh3.googleusercontent.com/a-/AAuE7mDBF2iGKxGl7CYsDDE_vc-IJ_jasiS_LErJsAvk2w=s64",
      "userId": "12590553655837929904"
     },
     "user_tz": -420
    },
    "id": "OHTI3Nr7XTVT",
    "outputId": "37671495-529a-453c-984f-433dbd6d1602"
   },
   "outputs": [
    {
     "data": {
      "image/png": "[encoded data removed]",
      "text/plain": [
       "<Figure size 432x288 with 1 Axes>"
      ]
     },
     "metadata": {
      "needs_background": "light"
     },
     "output_type": "display_data"
    }
   ],
   "source": [
    "import matplotlib.pyplot as plt\n",
    "cdf = data[['x','ydata']]\n",
    "plt.scatter(cdf.x, cdf.ydata,  color='blue')\n",
    "plt.xlabel(\"x\")\n",
    "plt.ylabel(\"ydata\")\n",
    "plt.show()"
   ]
  },
  {
   "cell_type": "code",
   "execution_count": 14,
   "metadata": {
    "colab": {
     "base_uri": "https://localhost:8080/",
     "height": 33
    },
    "colab_type": "code",
    "executionInfo": {
     "elapsed": 2043,
     "status": "ok",
     "timestamp": 1571294219889,
     "user": {
      "displayName": "Hermawan Wiwit Nugroho",
      "photoUrl": "https://lh3.googleusercontent.com/a-/AAuE7mDBF2iGKxGl7CYsDDE_vc-IJ_jasiS_LErJsAvk2w=s64",
      "userId": "12590553655837929904"
     },
     "user_tz": -420
    },
    "id": "9rypXvd4Xkhr",
    "outputId": "b2a650fd-95d0-4761-ea16-e82cfff6a914"
   },
   "outputs": [
    {
     "name": "stdout",
     "output_type": "stream",
     "text": [
      "-0.15143033169386605 8.338787732410939\n"
     ]
    }
   ],
   "source": [
    "X = cdf.x\n",
    "Y = cdf.ydata\n",
    "X_mean = np.mean(X)\n",
    "Y_mean = np.mean(Y)\n",
    "\n",
    "num = 0\n",
    "den = 0\n",
    "for i in range(len(X)):\n",
    "    num += (X[i] - X_mean)*(Y[i] - Y_mean)\n",
    "    den += (X[i] - X_mean)**2\n",
    "m = num / den\n",
    "c = Y_mean - m*X_mean\n",
    "\n",
    "print (m, c)"
   ]
  },
  {
   "cell_type": "code",
   "execution_count": 15,
   "metadata": {
    "colab": {
     "base_uri": "https://localhost:8080/",
     "height": 33
    },
    "colab_type": "code",
    "executionInfo": {
     "elapsed": 2010,
     "status": "ok",
     "timestamp": 1571294219891,
     "user": {
      "displayName": "Hermawan Wiwit Nugroho",
      "photoUrl": "https://lh3.googleusercontent.com/a-/AAuE7mDBF2iGKxGl7CYsDDE_vc-IJ_jasiS_LErJsAvk2w=s64",
      "userId": "12590553655837929904"
     },
     "user_tz": -420
    },
    "id": "7_qP-kS8XpRO",
    "outputId": "67675464-9cef-459d-d826-33ec783539bb"
   },
   "outputs": [
    {
     "name": "stdout",
     "output_type": "stream",
     "text": [
      "[ 8.33878773 -0.15143033]\n"
     ]
    }
   ],
   "source": [
    "sumx = np.sum(X)\n",
    "sumy = np.sum(Y)\n",
    "sumx2 = np.sum(X**2)\n",
    "sumxy = X @ Y\n",
    "m = len(X)\n",
    "a = np.array([[m, sumx], [sumx,sumx2]])\n",
    "b = np.array([sumy,sumxy])\n",
    "xBar = np.linalg.inv(a) @ b.T\n",
    "\n",
    "print(xBar)\n",
    "# print(np.linalg.inv(a))"
   ]
  },
  {
   "cell_type": "markdown",
   "metadata": {
    "colab_type": "text",
    "id": "U8DjxbHYYWwB"
   },
   "source": [
    "Mencoba menggunakan linear regression\n"
   ]
  },
  {
   "cell_type": "code",
   "execution_count": 16,
   "metadata": {
    "colab": {
     "base_uri": "https://localhost:8080/",
     "height": 282
    },
    "colab_type": "code",
    "executionInfo": {
     "elapsed": 1987,
     "status": "ok",
     "timestamp": 1571294219892,
     "user": {
      "displayName": "Hermawan Wiwit Nugroho",
      "photoUrl": "https://lh3.googleusercontent.com/a-/AAuE7mDBF2iGKxGl7CYsDDE_vc-IJ_jasiS_LErJsAvk2w=s64",
      "userId": "12590553655837929904"
     },
     "user_tz": -420
    },
    "id": "Pw8doEMbX2zM",
    "outputId": "ed374e1b-fe6b-4adc-fad4-ade06a7abf6e"
   },
   "outputs": [
    {
     "data": {
      "image/png": "[encoded data removed]",
      "text/plain": [
       "<Figure size 432x288 with 1 Axes>"
      ]
     },
     "metadata": {
      "needs_background": "light"
     },
     "output_type": "display_data"
    }
   ],
   "source": [
    "plt.scatter(cdf.x, cdf.ydata,  color='blue')\n",
    "plt.plot(X,xBar[1]*X+xBar[0], color ='r')\n",
    "plt.xlabel(\"x\")\n",
    "plt.ylabel(\"ydata\")\n",
    "plt.show()\n",
    "\n",
    "X = cdf.x\n",
    "Y = cdf.ydata"
   ]
  },
  {
   "cell_type": "markdown",
   "metadata": {
    "colab_type": "text",
    "id": "4kV_XgiVYq7e"
   },
   "source": [
    "Hampiran polinomial"
   ]
  },
  {
   "cell_type": "code",
   "execution_count": 17,
   "metadata": {
    "colab": {
     "base_uri": "https://localhost:8080/",
     "height": 33
    },
    "colab_type": "code",
    "executionInfo": {
     "elapsed": 2412,
     "status": "ok",
     "timestamp": 1571294220347,
     "user": {
      "displayName": "Hermawan Wiwit Nugroho",
      "photoUrl": "https://lh3.googleusercontent.com/a-/AAuE7mDBF2iGKxGl7CYsDDE_vc-IJ_jasiS_LErJsAvk2w=s64",
      "userId": "12590553655837929904"
     },
     "user_tz": -420
    },
    "id": "9elZ6D65YOKC",
    "outputId": "4b384068-8e9b-45d2-fcf8-60fd51f19e68"
   },
   "outputs": [
    {
     "name": "stdout",
     "output_type": "stream",
     "text": [
      "[-0.03116654 -0.05095069  1.00479643]\n"
     ]
    }
   ],
   "source": [
    "sumx = np.sum(X)\n",
    "sumy = np.sum(Y)\n",
    "sumx2 = np.sum(X**2)\n",
    "sumx3 = np.sum(X**3)\n",
    "sumx4 = np.sum(X**4)\n",
    "sumxy = X @ Y\n",
    "sumyx2 = Y @ X**2\n",
    "m = len(cdf.x)\n",
    "a = np.array([[m,sumx,sumx2],[sumx,sumx2,sumx3],[sumx2,sumx3,sumx4]])\n",
    "b = np.array([sumy,sumxy,sumyx2])\n",
    "xBar = np.linalg.inv(a) @ b.T\n",
    "\n",
    "print(xBar)\n",
    "# print(np.linalg.inv(a))"
   ]
  },
  {
   "cell_type": "code",
   "execution_count": 18,
   "metadata": {
    "colab": {
     "base_uri": "https://localhost:8080/",
     "height": 282
    },
    "colab_type": "code",
    "executionInfo": {
     "elapsed": 2395,
     "status": "ok",
     "timestamp": 1571294220350,
     "user": {
      "displayName": "Hermawan Wiwit Nugroho",
      "photoUrl": "https://lh3.googleusercontent.com/a-/AAuE7mDBF2iGKxGl7CYsDDE_vc-IJ_jasiS_LErJsAvk2w=s64",
      "userId": "12590553655837929904"
     },
     "user_tz": -420
    },
    "id": "AjaDV21Za4-G",
    "outputId": "df9c3b0a-1eb1-4db1-9f01-dd900f6a2971"
   },
   "outputs": [
    {
     "data": {
      "image/png": "[encoded data removed]",
      "text/plain": [
       "<Figure size 432x288 with 1 Axes>"
      ]
     },
     "metadata": {
      "needs_background": "light"
     },
     "output_type": "display_data"
    }
   ],
   "source": [
    "x = np.linspace(-5, 5, 50)\n",
    "\n",
    "# calculate the y value for each element of the x vector\n",
    "# y = x**2\n",
    "\n",
    "# fig, ax = plt.subplots()\n",
    "# ax.plot(x, y, color = 'r')\n",
    "\n",
    "# def func(x):\n",
    "#   return \n",
    "\n",
    "plt.scatter(cdf.x, cdf.ydata,  color='magenta')\n",
    "plt.plot(X,xBar[2]*(X**2)+xBar[1]*X+xBar[0], color ='b')\n",
    "plt.plot()\n",
    "plt.xlabel(\"x\")\n",
    "plt.ylabel(\"ydata\")\n",
    "plt.show()\n",
    "# print(xBar[1]*X+xBar[0])"
   ]
  },
  {
   "cell_type": "markdown",
   "metadata": {
    "colab_type": "text",
    "id": "BvsBKsVTiFHb"
   },
   "source": [
    "# EKSPONENSIAL"
   ]
  },
  {
   "cell_type": "code",
   "execution_count": 19,
   "metadata": {
    "colab": {
     "base_uri": "https://localhost:8080/",
     "height": 191
    },
    "colab_type": "code",
    "executionInfo": {
     "elapsed": 2374,
     "status": "ok",
     "timestamp": 1571294220353,
     "user": {
      "displayName": "Hermawan Wiwit Nugroho",
      "photoUrl": "https://lh3.googleusercontent.com/a-/AAuE7mDBF2iGKxGl7CYsDDE_vc-IJ_jasiS_LErJsAvk2w=s64",
      "userId": "12590553655837929904"
     },
     "user_tz": -420
    },
    "id": "IaoLPAnMhpDv",
    "outputId": "659cda91-d724-48c6-e348-a73f1ad99870"
   },
   "outputs": [
    {
     "data": {
      "text/html": [
       "<div>\n",
       "<style scoped>\n",
       "    .dataframe tbody tr th:only-of-type {\n",
       "        vertical-align: middle;\n",
       "    }\n",
       "\n",
       "    .dataframe tbody tr th {\n",
       "        vertical-align: top;\n",
       "    }\n",
       "\n",
       "    .dataframe thead th {\n",
       "        text-align: right;\n",
       "    }\n",
       "</style>\n",
       "<table border=\"1\" class=\"dataframe\">\n",
       "  <thead>\n",
       "    <tr style=\"text-align: right;\">\n",
       "      <th></th>\n",
       "      <th>Unnamed: 0</th>\n",
       "      <th>x</th>\n",
       "      <th>ydata</th>\n",
       "    </tr>\n",
       "  </thead>\n",
       "  <tbody>\n",
       "    <tr>\n",
       "      <th>0</th>\n",
       "      <td>0</td>\n",
       "      <td>0.0</td>\n",
       "      <td>-2075.713065</td>\n",
       "    </tr>\n",
       "    <tr>\n",
       "      <th>1</th>\n",
       "      <td>1</td>\n",
       "      <td>0.1</td>\n",
       "      <td>395.826088</td>\n",
       "    </tr>\n",
       "    <tr>\n",
       "      <th>2</th>\n",
       "      <td>2</td>\n",
       "      <td>0.2</td>\n",
       "      <td>1951.395921</td>\n",
       "    </tr>\n",
       "    <tr>\n",
       "      <th>3</th>\n",
       "      <td>3</td>\n",
       "      <td>0.3</td>\n",
       "      <td>1330.135371</td>\n",
       "    </tr>\n",
       "    <tr>\n",
       "      <th>4</th>\n",
       "      <td>4</td>\n",
       "      <td>0.4</td>\n",
       "      <td>1622.862863</td>\n",
       "    </tr>\n",
       "  </tbody>\n",
       "</table>\n",
       "</div>"
      ],
      "text/plain": [
       "   Unnamed: 0    x        ydata\n",
       "0           0  0.0 -2075.713065\n",
       "1           1  0.1   395.826088\n",
       "2           2  0.2  1951.395921\n",
       "3           3  0.3  1330.135371\n",
       "4           4  0.4  1622.862863"
      ]
     },
     "execution_count": 19,
     "metadata": {},
     "output_type": "execute_result"
    }
   ],
   "source": [
    "url3 = 'https://raw.githubusercontent.com/hermawanwiwid/Regression/master/eksponensial.csv'\n",
    "\n",
    "data = pd.read_csv(url3)\n",
    "\n",
    "data.head()"
   ]
  },
  {
   "cell_type": "code",
   "execution_count": 20,
   "metadata": {
    "colab": {
     "base_uri": "https://localhost:8080/",
     "height": 282
    },
    "colab_type": "code",
    "executionInfo": {
     "elapsed": 2892,
     "status": "ok",
     "timestamp": 1571294220892,
     "user": {
      "displayName": "Hermawan Wiwit Nugroho",
      "photoUrl": "https://lh3.googleusercontent.com/a-/AAuE7mDBF2iGKxGl7CYsDDE_vc-IJ_jasiS_LErJsAvk2w=s64",
      "userId": "12590553655837929904"
     },
     "user_tz": -420
    },
    "id": "0E3J_-pOhyqR",
    "outputId": "f9c00e5e-e707-46de-dadc-6e5a0c971af6"
   },
   "outputs": [
    {
     "data": {
      "image/png": "[encoded data removed]",
      "text/plain": [
       "<Figure size 432x288 with 1 Axes>"
      ]
     },
     "metadata": {
      "needs_background": "light"
     },
     "output_type": "display_data"
    }
   ],
   "source": [
    "import matplotlib.pyplot as plt\n",
    "cdf = data[['x','ydata']]\n",
    "plt.scatter(cdf.x, cdf.ydata,  color='blue')\n",
    "plt.xlabel(\"x\")\n",
    "plt.ylabel(\"ydata\")\n",
    "plt.show()"
   ]
  },
  {
   "cell_type": "code",
   "execution_count": 21,
   "metadata": {
    "colab": {},
    "colab_type": "code",
    "id": "XF_P8q3JjuM0"
   },
   "outputs": [],
   "source": [
    "lny = np.log(abs(cdf.ydata))\n",
    "# print(cdf.ydata)\n",
    "# lny"
   ]
  },
  {
   "cell_type": "code",
   "execution_count": 22,
   "metadata": {
    "colab": {},
    "colab_type": "code",
    "id": "BqnCBDZPh5Hs"
   },
   "outputs": [],
   "source": [
    "\n",
    "X = cdf.x\n",
    "Y = cdf.ydata"
   ]
  },
  {
   "cell_type": "code",
   "execution_count": 23,
   "metadata": {
    "colab": {},
    "colab_type": "code",
    "id": "agJflGU8iCql"
   },
   "outputs": [],
   "source": [
    "sumx = np.sum(X)\n",
    "sumy = np.sum(lny)\n",
    "sumx2 = np.sum(X**2)\n",
    "sumxy = X @ lny\n",
    "xy = np.sum(X*lny)\n",
    "m = len(X)\n",
    "a = np.array([[m, sumx], [sumx,sumx2]])\n",
    "b = np.array([sumy,xy])\n",
    "xBar = np.linalg.inv(a) @ b\n",
    "lnxBar = np.log(abs(xBar))\n",
    "alfa = np.exp(xBar[1])\n",
    "# print(xBar)\n",
    "def ln_y(x):\n",
    "  return x[1]*np.exp(alfa*x)\n",
    "\n",
    "# print(np.linalg.inv(a))"
   ]
  },
  {
   "cell_type": "code",
   "execution_count": 24,
   "metadata": {
    "colab": {
     "base_uri": "https://localhost:8080/",
     "height": 282
    },
    "colab_type": "code",
    "executionInfo": {
     "elapsed": 2813,
     "status": "ok",
     "timestamp": 1571294220902,
     "user": {
      "displayName": "Hermawan Wiwit Nugroho",
      "photoUrl": "https://lh3.googleusercontent.com/a-/AAuE7mDBF2iGKxGl7CYsDDE_vc-IJ_jasiS_LErJsAvk2w=s64",
      "userId": "12590553655837929904"
     },
     "user_tz": -420
    },
    "id": "pPycsM8Oktpz",
    "outputId": "ca947ab7-584a-4273-b65c-1f34254210c8"
   },
   "outputs": [
    {
     "data": {
      "image/png": "[encoded data removed]",
      "text/plain": [
       "<Figure size 432x288 with 1 Axes>"
      ]
     },
     "metadata": {
      "needs_background": "light"
     },
     "output_type": "display_data"
    }
   ],
   "source": [
    "import math\n",
    "\n",
    "plt.scatter(cdf.x, cdf.ydata,  color='magenta')\n",
    "# plt.plot(X,xBar[1]*X+xBar[0], color ='b')\n",
    "# plt.plot(X,lnxBar[0]*math.e**(xBar[1]*X), color ='b')\n",
    "plt.plot(X,ln_y(X), color ='b')\n",
    "plt.plot()\n",
    "plt.xlabel(\"x\")\n",
    "plt.ylabel(\"ydata\")\n",
    "plt.show()"
   ]
  },
  {
   "cell_type": "code",
   "execution_count": 25,
   "metadata": {
    "colab": {
     "base_uri": "https://localhost:8080/",
     "height": 285
    },
    "colab_type": "code",
    "executionInfo": {
     "elapsed": 3251,
     "status": "ok",
     "timestamp": 1571294221378,
     "user": {
      "displayName": "Hermawan Wiwit Nugroho",
      "photoUrl": "https://lh3.googleusercontent.com/a-/AAuE7mDBF2iGKxGl7CYsDDE_vc-IJ_jasiS_LErJsAvk2w=s64",
      "userId": "12590553655837929904"
     },
     "user_tz": -420
    },
    "id": "waz0JnD1orDd",
    "outputId": "f5044651-d1bd-4b52-9dda-51d6b0ee4340"
   },
   "outputs": [
    {
     "data": {
      "text/plain": [
       "[<matplotlib.lines.Line2D at 0x15ffa376d30>]"
      ]
     },
     "execution_count": 25,
     "metadata": {},
     "output_type": "execute_result"
    },
    {
     "data": {
      "image/png": "[encoded data removed]",
      "text/plain": [
       "<Figure size 432x288 with 1 Axes>"
      ]
     },
     "metadata": {
      "needs_background": "light"
     },
     "output_type": "display_data"
    }
   ],
   "source": [
    "y = x**2 \n",
    "\n",
    "fig, ax = plt.subplots()\n",
    "ax.plot(x, y, color = 'r')\n",
    "# plt.scatter(cdf.x, cdf.ydata,  color='magenta')"
   ]
  }
 ],
 "metadata": {
  "colab": {
   "collapsed_sections": [],
   "name": "Non Linear Regression_Hermawan",
   "provenance": []
  },
  "kernelspec": {
   "display_name": "Python 3",
   "language": "python",
   "name": "python3"
  },
  "language_info": {
   "codemirror_mode": {
    "name": "ipython",
    "version": 3
   },
   "file_extension": ".py",
   "mimetype": "text/x-python",
   "name": "python",
   "nbconvert_exporter": "python",
   "pygments_lexer": "ipython3",
   "version": "3.7.3"
  }
 },
 "nbformat": 4,
 "nbformat_minor": 1
}
